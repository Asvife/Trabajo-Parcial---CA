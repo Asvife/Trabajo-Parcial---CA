{
 "cells": [
  {
   "cell_type": "code",
   "execution_count": null,
   "metadata": {
    "id": "6kkMgOkjMMz3"
   },
   "outputs": [],
   "source": [
    "import pandas as pd\n",
    "import numpy as np\n",
    "import networkx as nx\n",
    "import math"
   ]
  },
  {
   "cell_type": "markdown",
   "metadata": {
    "id": "Sobl7XFNvvU2"
   },
   "source": [
    "## EVALUACION DEL DATASET"
   ]
  },
  {
   "cell_type": "code",
   "execution_count": null,
   "metadata": {
    "colab": {
     "base_uri": "https://localhost:8080/",
     "height": 206.0
    },
    "id": "ev0NUkB8MMz4",
    "outputId": "8e1759c6-993c-4a2a-90e3-89a29509678d"
   },
   "outputs": [
    {
     "data": {
      "text/html": [
       "<div>\n",
       "<style scoped>\n",
       "    .dataframe tbody tr th:only-of-type {\n",
       "        vertical-align: middle;\n",
       "    }\n",
       "\n",
       "    .dataframe tbody tr th {\n",
       "        vertical-align: top;\n",
       "    }\n",
       "\n",
       "    .dataframe thead th {\n",
       "        text-align: right;\n",
       "    }\n",
       "</style>\n",
       "<table border=\"1\" class=\"dataframe\">\n",
       "  <thead>\n",
       "    <tr style=\"text-align: right;\">\n",
       "      <th></th>\n",
       "      <th>DEPARTAMENTO</th>\n",
       "      <th>PROVINCIA</th>\n",
       "      <th>DISTRITO</th>\n",
       "      <th>CENTRO POBLADO</th>\n",
       "      <th>LATITUD</th>\n",
       "      <th>LONGITUD</th>\n",
       "      <th>NMI1</th>\n",
       "      <th>NMI2</th>\n",
       "    </tr>\n",
       "  </thead>\n",
       "  <tbody>\n",
       "    <tr>\n",
       "      <th>0</th>\n",
       "      <td>AMAZONAS</td>\n",
       "      <td>BAGUA</td>\n",
       "      <td>ARAMANGO</td>\n",
       "      <td>EL MUYO (C.P.L.)</td>\n",
       "      <td>-5.422545</td>\n",
       "      <td>-78.45299</td>\n",
       "      <td>311</td>\n",
       "      <td>1206</td>\n",
       "    </tr>\n",
       "    <tr>\n",
       "      <th>1</th>\n",
       "      <td>AMAZONAS</td>\n",
       "      <td>BAGUA</td>\n",
       "      <td>ARAMANGO</td>\n",
       "      <td>RESERVA UJUCANO</td>\n",
       "      <td>-5.427565</td>\n",
       "      <td>-78.444372</td>\n",
       "      <td>44</td>\n",
       "      <td>129</td>\n",
       "    </tr>\n",
       "    <tr>\n",
       "      <th>2</th>\n",
       "      <td>AMAZONAS</td>\n",
       "      <td>BAGUA</td>\n",
       "      <td>ARAMANGO</td>\n",
       "      <td>TUTUMBEROS</td>\n",
       "      <td>-5.327317</td>\n",
       "      <td>-78.44472</td>\n",
       "      <td>49</td>\n",
       "      <td>179</td>\n",
       "    </tr>\n",
       "    <tr>\n",
       "      <th>3</th>\n",
       "      <td>AMAZONAS</td>\n",
       "      <td>BAGUA</td>\n",
       "      <td>BAGUA</td>\n",
       "      <td>ALENYA BAJO</td>\n",
       "      <td>-5.682439</td>\n",
       "      <td>-78.495229</td>\n",
       "      <td>3</td>\n",
       "      <td>8</td>\n",
       "    </tr>\n",
       "    <tr>\n",
       "      <th>4</th>\n",
       "      <td>AMAZONAS</td>\n",
       "      <td>BONGARA</td>\n",
       "      <td>CUISPES</td>\n",
       "      <td>MITOPAMPA</td>\n",
       "      <td>-5.93856</td>\n",
       "      <td>-77.965302</td>\n",
       "      <td>1</td>\n",
       "      <td>4</td>\n",
       "    </tr>\n",
       "  </tbody>\n",
       "</table>\n",
       "</div>"
      ],
      "text/plain": [
       "  DEPARTAMENTO PROVINCIA  DISTRITO  ...    LONGITUD NMI1  NMI2\n",
       "0     AMAZONAS     BAGUA  ARAMANGO  ...   -78.45299  311  1206\n",
       "1     AMAZONAS     BAGUA  ARAMANGO  ...  -78.444372   44   129\n",
       "2     AMAZONAS     BAGUA  ARAMANGO  ...   -78.44472   49   179\n",
       "3     AMAZONAS     BAGUA     BAGUA  ...  -78.495229    3     8\n",
       "4     AMAZONAS   BONGARA   CUISPES  ...  -77.965302    1     4\n",
       "\n",
       "[5 rows x 8 columns]"
      ]
     },
     "execution_count": 4,
     "metadata": {
      "tags": []
     },
     "output_type": "execute_result"
    }
   ],
   "source": [
    "import graphstuff as gs #lmcanaval\n",
    "\n",
    "url=\"https://raw.githubusercontent.com/lmcanavals/algorithmic_complexity/main/data/poblaciones.csv\"\n",
    "poblacionesDF = pd.read_csv(url)\n",
    "\n",
    "poblacionesDF.head()"
   ]
  },
  {
   "cell_type": "code",
   "execution_count": 5,
   "metadata": {
    "colab": {
     "base_uri": "https://localhost:8080/"
    },
    "id": "e2zAw1fCmeT-",
    "outputId": "20df959f-ec06-4890-f986-90e1c52cfd4c"
   },
   "outputs": [
    {
     "name": "stdout",
     "output_type": "stream",
     "text": [
      "157\n",
      "['BAGUA' 'BONGARA' 'CHACHAPOYAS' 'UTCUBAMBA' 'ANTONIO RAYMONDI'\n",
      " 'BOLOGNESI' 'CARHUAZ' 'CASMA' 'HUARAZ' 'HUARI' 'HUAYLAS' 'OCROS'\n",
      " 'POMABAMBA' 'RECUAY' 'SANTA' 'SIHUAS' 'YUNGAY' 'ABANCAY' 'ANDAHUAYLAS'\n",
      " 'ANTABAMBA' 'AYMARAES' 'CHINCHEROS' 'GRAU' 'AREQUIPA' 'CAMANA' 'CARAVELI'\n",
      " 'CASTILLA' 'CAYLLOMA' 'CONDESUYOS' 'CANGALLO' 'HUAMANGA' 'HUANCA SANCOS'\n",
      " 'HUANTA' 'LUCANAS' 'PARINACOCHAS' 'VICTOR FAJARDO' 'CAJABAMBA'\n",
      " 'CAJAMARCA' 'CELENDIN' 'CHOTA' 'CONTUMAZA' 'CUTERVO' 'JAEN' 'SAN IGNACIO'\n",
      " 'SAN MARCOS' 'SAN MIGUEL' 'SAN MIMGUEL' 'SANTA CRUZ' 'ACOMAYO' 'CALCA'\n",
      " 'CANAS' 'CANCHIS' 'CHUMBIVILCAS' 'LA CONVENCION' 'PARURO' 'QUISPICANCHI'\n",
      " 'PROVINCIA' 'CASTROVIRREYNA' 'CHURCAMPA' 'HUANCAVELICA' 'HUAYTARA'\n",
      " 'TAYACAJA' 'AMBO' 'DOS DE MAYO' 'DOSDEMAYO' 'HUAMALIES' 'HUANUCO SANTA'\n",
      " 'HUANUCO' 'LAURICOCHA' 'LEONCIO PRADO' 'MARAÑON' 'PUERTO INCA' 'CHINCHA'\n",
      " 'ICA' 'NASCA' 'PALPA' 'PISCO' 'CHANCHAMAYO' 'CHUPACA' 'CONCEPCION'\n",
      " 'HUANCAYO' 'JAUJA' 'JUNIN' 'SATIPO' 'TARMA' 'ASCOPE' 'BOLIVAR' 'CHEPEN'\n",
      " 'GRAN CHIMU' 'JULCAN' 'OTUZCO' 'PACASMAYO' 'PATAZ' 'SANCHEZ CARRION'\n",
      " 'SANTIAGO DE CHUCO' 'TRUJILLO' 'VIRU' 'CHICLAYO' 'FERREÑAFE' 'LAMBAYEQUE'\n",
      " 'BARRANCA' 'CAJATAMBO' 'CAÑETE' 'HUARAL' 'HUAROCHIRI' 'HUAURA' 'LIMA'\n",
      " 'OYON' 'YAUYOS' 'ALTO AMAZONAS' 'LORETO' 'MARISCAL RAMON CASTILLA'\n",
      " 'MAYNAS' 'PUTUMAYO   10' 'REQUENA' 'UCAYALI' 'MANU' 'TAMBOPATA'\n",
      " 'GENERAL SANCHEZ CERRO' 'MARISCAL NIETO' 'DANIEL ALCIDES CARRION'\n",
      " 'OXAPAMPA' 'PASCO' 'AYABACA' 'HUANCABAMBA' 'MORROPON' 'PAITA' 'PIURA'\n",
      " 'SECHURA' 'SULLANA' 'TALARA' 'AZANGARO' 'CARABAYA' 'CHUCUITO' 'EL COLLAO'\n",
      " 'LAMPA' 'MELGAR' 'PUNO' 'SANDIA' 'BELLAVISTA' 'HUALLAGA' 'LAMAS'\n",
      " 'MARISCAL CACERES' 'MOYOBAMBA' 'PICOTA' 'RIOJA' 'SAN MARTIN' 'TOCACHE'\n",
      " 'CANDARAVE' 'JORGE BASADRE' 'TACNA' 'TARATA' 'CONTRALMIRANTE VILLAR'\n",
      " 'TUMBES' 'ZARUMILLA' 'CORONEL PORTILLO' 'PADRE ABAD']\n"
     ]
    }
   ],
   "source": [
    "#@title Obtener listado de Provincias en total de distritos\n",
    "provincias = poblacionesDF['PROVINCIA'].unique()\n",
    "print(len(provincias))\n",
    "print(provincias)"
   ]
  },
  {
   "cell_type": "code",
   "execution_count": 6,
   "metadata": {
    "colab": {
     "base_uri": "https://localhost:8080/"
    },
    "id": "rWCSsqJOhPm7",
    "outputId": "6417a73f-c54a-43c5-c2cb-fecacf957aec"
   },
   "outputs": [
    {
     "name": "stdout",
     "output_type": "stream",
     "text": [
      "CAPAYA 1\n",
      "CHAPIMARCA 5\n",
      "COLCABAMBA 1\n",
      "HUAYLLO 1\n",
      "JUSTO APU SAHUARAURA 5\n",
      "TAPAIRIHUA 2\n",
      "TINTAY 7\n",
      "TORAYA 1\n"
     ]
    }
   ],
   "source": [
    "#@title Obtener listado de distritos con la cantidad de centros poblados de una provincia\n",
    "provincia = 'AYMARAES' #@param {type:\"string\"}\n",
    "\n",
    "distritos = poblacionesDF[poblacionesDF['PROVINCIA'] == provincia]\n",
    "\n",
    "nombresDistritos = distritos['DISTRITO'].unique()\n",
    "\n",
    "for nombre in nombresDistritos:\n",
    "  print(nombre, len(distritos[distritos['DISTRITO'] == nombre]))\n"
   ]
  },
  {
   "cell_type": "markdown",
   "metadata": {
    "id": "Tn28H05CvjIi"
   },
   "source": [
    "## FUNCION PARA LA PREPARACION DEL DATASET"
   ]
  },
  {
   "cell_type": "code",
   "execution_count": 7,
   "metadata": {
    "id": "8HhUMIc8MMz5"
   },
   "outputs": [],
   "source": [
    "def centros_poblados_distrito(poblacionesDF, provincia, distrito):\n",
    "    distritos = poblacionesDF[poblacionesDF['PROVINCIA'] == provincia]\n",
    "    distrito = distritos[distritos['DISTRITO'] == distrito]\n",
    "\n",
    "    def distancia(origen, destino):\n",
    "        x1, y1 = float(origen['LATITUD']), float(origen['LONGITUD'])\n",
    "        x2, y2 = float(destino['LATITUD']), float(destino['LONGITUD'])\n",
    "        return ((x1 - x2)**2 + (y1 - y2)**2)**0.5\n",
    "\n",
    "    # Lista de nombres de los distritos\n",
    "    nombres = [distrito['CENTRO POBLADO'] for _, distrito in distrito.iterrows()]\n",
    "    # Lista de adyacencia simple\n",
    "    grafo = [[] for i in range(len(distrito))]\n",
    "    # Matriz del grafo para calcular los pesos mas facilmente\n",
    "    matriz = [[0 for j in range(len(distrito))] for i in range(len(distrito))]\n",
    "    # Grafo para nx\n",
    "    grafico = nx.Graph()\n",
    "\n",
    "    for _, origen in distrito.iterrows():\n",
    "        i = nombres.index(origen['CENTRO POBLADO'])\n",
    "        for _, destino in distrito.iterrows():\n",
    "            j = nombres.index(destino['CENTRO POBLADO'])\n",
    "            if origen['CENTRO POBLADO'] != destino['CENTRO POBLADO']:\n",
    "                grafo[i].append([j,distancia(origen, destino)])\n",
    "                matriz[i][j] = distancia(origen, destino)\n",
    "                grafico.add_edge(origen['CENTRO POBLADO'], destino['CENTRO POBLADO'], weight=distancia(origen, destino))\n",
    "    \n",
    "    return nombres, grafo, matriz, grafico\n"
   ]
  },
  {
   "cell_type": "markdown",
   "metadata": {
    "id": "MWoA_lFtveJr"
   },
   "source": [
    "## VISUALIZACION DE LA DATA "
   ]
  },
  {
   "cell_type": "code",
   "execution_count": 8,
   "metadata": {
    "colab": {
     "base_uri": "https://localhost:8080/",
     "height": 1000.0
    },
    "id": "pthXcwP_MMz8",
    "outputId": "80ff2efc-8cb7-471b-926c-6d1ccbce8c77"
   },
   "outputs": [
    {
     "name": "stdout",
     "output_type": "stream",
     "text": [
      "1 | Origen: ANCOBAMBA\n",
      "  | Destino: CHAUCCA - Distancia: 0.049862895423348486\n",
      "  | Destino: SANTA ISABEL - Distancia: 0.08300539946291902\n",
      "  | Destino: SANTA ROSA - Distancia: 0.0825804421034413\n",
      "  | Destino: SUPALLA - Distancia: 0.04654598889270501\n",
      "2 | Origen: CHAUCCA\n",
      "  | Destino: ANCOBAMBA - Distancia: 0.049862895423348486\n",
      "  | Destino: SANTA ISABEL - Distancia: 0.04523991600345282\n",
      "  | Destino: SANTA ROSA - Distancia: 0.0422097541570684\n",
      "  | Destino: SUPALLA - Distancia: 0.003349142278255718\n",
      "3 | Origen: SANTA ISABEL\n",
      "  | Destino: ANCOBAMBA - Distancia: 0.08300539946291902\n",
      "  | Destino: CHAUCCA - Distancia: 0.04523991600345282\n",
      "  | Destino: SANTA ROSA - Distancia: 0.005371326279416152\n",
      "  | Destino: SUPALLA - Distancia: 0.04742685899360736\n",
      "4 | Origen: SANTA ROSA\n",
      "  | Destino: ANCOBAMBA - Distancia: 0.0825804421034413\n",
      "  | Destino: CHAUCCA - Distancia: 0.0422097541570684\n",
      "  | Destino: SANTA ISABEL - Distancia: 0.005371326279416152\n",
      "  | Destino: SUPALLA - Distancia: 0.04464070362348943\n",
      "5 | Origen: SUPALLA\n",
      "  | Destino: ANCOBAMBA - Distancia: 0.04654598889270501\n",
      "  | Destino: CHAUCCA - Distancia: 0.003349142278255718\n",
      "  | Destino: SANTA ISABEL - Distancia: 0.04742685899360736\n",
      "  | Destino: SANTA ROSA - Distancia: 0.04464070362348943\n"
     ]
    },
    {
     "data": {
      "image/svg+xml": [
       "<?xml version=\"1.0\" encoding=\"UTF-8\" standalone=\"no\"?>\n<!DOCTYPE svg PUBLIC \"-//W3C//DTD SVG 1.1//EN\"\n \"http://www.w3.org/Graphics/SVG/1.1/DTD/svg11.dtd\">\n<!-- Generated by graphviz version 2.40.1 (20161225.0304)\n -->\n<!-- Title: G Pages: 1 -->\n<svg width=\"795pt\" height=\"392pt\"\n viewBox=\"0.00 0.00 795.00 392.00\" xmlns=\"http://www.w3.org/2000/svg\" xmlns:xlink=\"http://www.w3.org/1999/xlink\">\n<g id=\"graph0\" class=\"graph\" transform=\"scale(1 1) rotate(0) translate(4 388)\">\n<title>G</title>\n<polygon fill=\"#ffffff\" stroke=\"transparent\" points=\"-4,4 -4,-388 791,-388 791,4 -4,4\"/>\n<!-- ANCOBAMBA -->\n<g id=\"node1\" class=\"node\">\n<title>ANCOBAMBA</title>\n<ellipse fill=\"none\" stroke=\"#000000\" cx=\"236\" cy=\"-366\" rx=\"72.2875\" ry=\"18\"/>\n<text text-anchor=\"middle\" x=\"236\" y=\"-362.3\" font-family=\"Times,serif\" font-size=\"14.00\" fill=\"#000000\">ANCOBAMBA</text>\n</g>\n<!-- CHAUCCA -->\n<g id=\"node2\" class=\"node\">\n<title>CHAUCCA</title>\n<ellipse fill=\"none\" stroke=\"#000000\" cx=\"343\" cy=\"-279\" rx=\"57.3905\" ry=\"18\"/>\n<text text-anchor=\"middle\" x=\"343\" y=\"-275.3\" font-family=\"Times,serif\" font-size=\"14.00\" fill=\"#000000\">CHAUCCA</text>\n</g>\n<!-- ANCOBAMBA&#45;&#45;CHAUCCA -->\n<g id=\"edge1\" class=\"edge\">\n<title>ANCOBAMBA&#45;&#45;CHAUCCA</title>\n<path fill=\"none\" stroke=\"#000000\" d=\"M257.3959,-348.6033C276.1799,-333.3304 303.3426,-311.2448 322.0058,-296.07\"/>\n<text text-anchor=\"middle\" x=\"368.5\" y=\"-318.8\" font-family=\"Times,serif\" font-size=\"14.00\" fill=\"#000000\">0.049862895423348486</text>\n</g>\n<!-- SANTA ISABEL -->\n<g id=\"node3\" class=\"node\">\n<title>SANTA ISABEL</title>\n<ellipse fill=\"none\" stroke=\"#000000\" cx=\"333\" cy=\"-192\" rx=\"77.1866\" ry=\"18\"/>\n<text text-anchor=\"middle\" x=\"333\" y=\"-188.3\" font-family=\"Times,serif\" font-size=\"14.00\" fill=\"#000000\">SANTA ISABEL</text>\n</g>\n<!-- ANCOBAMBA&#45;&#45;SANTA ISABEL -->\n<g id=\"edge2\" class=\"edge\">\n<title>ANCOBAMBA&#45;&#45;SANTA ISABEL</title>\n<path fill=\"none\" stroke=\"#000000\" d=\"M201.6387,-349.9586C164.4747,-330.354 113.6025,-295.5128 138,-261 154.3763,-237.8341 224.8176,-216.9801 276.3493,-204.4086\"/>\n<text text-anchor=\"middle\" x=\"207.5\" y=\"-275.3\" font-family=\"Times,serif\" font-size=\"14.00\" fill=\"#000000\">0.08300539946291902</text>\n</g>\n<!-- SANTA ROSA -->\n<g id=\"node4\" class=\"node\">\n<title>SANTA ROSA</title>\n<ellipse fill=\"none\" stroke=\"#000000\" cx=\"556\" cy=\"-105\" rx=\"69.5877\" ry=\"18\"/>\n<text text-anchor=\"middle\" x=\"556\" y=\"-101.3\" font-family=\"Times,serif\" font-size=\"14.00\" fill=\"#000000\">SANTA ROSA</text>\n</g>\n<!-- ANCOBAMBA&#45;&#45;SANTA ROSA -->\n<g id=\"edge3\" class=\"edge\">\n<title>ANCOBAMBA&#45;&#45;SANTA ROSA</title>\n<path fill=\"none\" stroke=\"#000000\" d=\"M304.0836,-360.0398C345.8861,-354.9915 400.0397,-345.9282 446,-330 551.6057,-293.4009 609.855,-306.0547 667,-210 689.7853,-171.7004 634.8612,-138.4493 594.4084,-120.1148\"/>\n<text text-anchor=\"middle\" x=\"721\" y=\"-231.8\" font-family=\"Times,serif\" font-size=\"14.00\" fill=\"#000000\">0.0825804421034413</text>\n</g>\n<!-- SUPALLA -->\n<g id=\"node5\" class=\"node\">\n<title>SUPALLA</title>\n<ellipse fill=\"none\" stroke=\"#000000\" cx=\"248\" cy=\"-18\" rx=\"52.7911\" ry=\"18\"/>\n<text text-anchor=\"middle\" x=\"248\" y=\"-14.3\" font-family=\"Times,serif\" font-size=\"14.00\" fill=\"#000000\">SUPALLA</text>\n</g>\n<!-- ANCOBAMBA&#45;&#45;SUPALLA -->\n<g id=\"edge4\" class=\"edge\">\n<title>ANCOBAMBA&#45;&#45;SUPALLA</title>\n<path fill=\"none\" stroke=\"#000000\" d=\"M175.8366,-356.0602C105.9157,-342.7647 0,-316.445 0,-279 0,-279 0,-279 0,-105 0,-63.1933 127.0749,-36.6601 199.2991,-24.9559\"/>\n<text text-anchor=\"middle\" x=\"69.5\" y=\"-188.3\" font-family=\"Times,serif\" font-size=\"14.00\" fill=\"#000000\">0.04654598889270501</text>\n</g>\n<!-- CHAUCCA&#45;&#45;SANTA ISABEL -->\n<g id=\"edge5\" class=\"edge\">\n<title>CHAUCCA&#45;&#45;SANTA ISABEL</title>\n<path fill=\"none\" stroke=\"#000000\" d=\"M340.928,-260.9735C339.2117,-246.0422 336.7849,-224.9283 335.0694,-210.0034\"/>\n<text text-anchor=\"middle\" x=\"407.5\" y=\"-231.8\" font-family=\"Times,serif\" font-size=\"14.00\" fill=\"#000000\">0.04523991600345282</text>\n</g>\n<!-- CHAUCCA&#45;&#45;SANTA ROSA -->\n<g id=\"edge6\" class=\"edge\">\n<title>CHAUCCA&#45;&#45;SANTA ROSA</title>\n<path fill=\"none\" stroke=\"#000000\" d=\"M393.2025,-270.246C426.7862,-263.5869 467.2537,-253.7587 481,-243 520.9401,-211.7405 542.4342,-153.0557 551.2026,-123.2997\"/>\n<text text-anchor=\"middle\" x=\"597\" y=\"-188.3\" font-family=\"Times,serif\" font-size=\"14.00\" fill=\"#000000\">0.0422097541570684</text>\n</g>\n<!-- CHAUCCA&#45;&#45;SUPALLA -->\n<g id=\"edge7\" class=\"edge\">\n<title>CHAUCCA&#45;&#45;SUPALLA</title>\n<path fill=\"none\" stroke=\"#000000\" d=\"M304.9289,-265.4203C261.7726,-247.7232 193.5851,-212.226 164,-156 140.1645,-110.7011 193.0031,-59.8551 225.3088,-34.3925\"/>\n<text text-anchor=\"middle\" x=\"237.5\" y=\"-144.8\" font-family=\"Times,serif\" font-size=\"14.00\" fill=\"#000000\">0.003349142278255718</text>\n</g>\n<!-- SANTA ISABEL&#45;&#45;SANTA ROSA -->\n<g id=\"edge8\" class=\"edge\">\n<title>SANTA ISABEL&#45;&#45;SANTA ROSA</title>\n<path fill=\"none\" stroke=\"#000000\" d=\"M339.107,-173.8482C343.8477,-162.5996 351.5651,-148.846 363,-141 403.4865,-113.2204 423.7589,-132.1466 472,-123 481.9643,-121.1108 492.5618,-118.9552 502.7531,-116.808\"/>\n<text text-anchor=\"middle\" x=\"436.5\" y=\"-144.8\" font-family=\"Times,serif\" font-size=\"14.00\" fill=\"#000000\">0.005371326279416152</text>\n</g>\n<!-- SANTA ISABEL&#45;&#45;SUPALLA -->\n<g id=\"edge9\" class=\"edge\">\n<title>SANTA ISABEL&#45;&#45;SUPALLA</title>\n<path fill=\"none\" stroke=\"#000000\" d=\"M327.3567,-173.7881C324.1084,-163.9335 319.7373,-151.6356 315,-141 297.7845,-102.3496 273.019,-59.4166 258.9199,-35.8783\"/>\n<text text-anchor=\"middle\" x=\"375.5\" y=\"-101.3\" font-family=\"Times,serif\" font-size=\"14.00\" fill=\"#000000\">0.04742685899360736</text>\n</g>\n<!-- SANTA ROSA&#45;&#45;SUPALLA -->\n<g id=\"edge10\" class=\"edge\">\n<title>SANTA ROSA&#45;&#45;SUPALLA</title>\n<path fill=\"none\" stroke=\"#000000\" d=\"M508.8862,-91.6919C448.7261,-74.6986 345.6236,-45.5755 288.7119,-29.4998\"/>\n<text text-anchor=\"middle\" x=\"489.5\" y=\"-57.8\" font-family=\"Times,serif\" font-size=\"14.00\" fill=\"#000000\">0.04464070362348943</text>\n</g>\n</g>\n</svg>\n"
      ],
      "text/plain": [
       "<graphviz.dot.Graph at 0x7fe09ce45b10>"
      ]
     },
     "execution_count": 8,
     "metadata": {
      "tags": []
     },
     "output_type": "execute_result"
    }
   ],
   "source": [
    "#@title Parámetros \n",
    "#@markdown Ingrese la provincia y el distrito\n",
    "\n",
    "provincia = 'AYMARAES' #@param {type:\"string\"}\n",
    "distrito = 'CHAPIMARCA' #@param {type:\"string\"}\n",
    "\n",
    "nombres, grafo, matriz, grafico = centros_poblados_distrito(poblacionesDF, provincia, distrito)\n",
    "\n",
    "for i in range(len(grafo)):\n",
    "    print(i+1, \"| Origen:\", nombres[i])\n",
    "    for j in range(len(grafo[i])):\n",
    "      print(\"  | Destino:\",nombres[grafo[i][j][0]],\"- Distancia:\", grafo[i][j][1])\n",
    "\n",
    "gs.nx2gv(grafico, weighted=True, params={'size':'15'})"
   ]
  },
  {
   "cell_type": "markdown",
   "metadata": {
    "id": "hckuCBnau0YE"
   },
   "source": [
    "## METODO DE FUERZA BRUTA Y BRACKTRACKING - Método más lento pero seguro"
   ]
  },
  {
   "cell_type": "code",
   "execution_count": 9,
   "metadata": {
    "id": "I0kF6PTTMMz8"
   },
   "outputs": [],
   "source": [
    "def metodo_permutaciones(graph,matrix,start):\n",
    "    n = len(graph)\n",
    "\n",
    "    # Funcion para obtener permutaciones utilizando backtracking\n",
    "    def permutar(permutaciones, a, l, r):\n",
    "      if l==r:\n",
    "          permutaciones.append(list(a))\n",
    "      else:\n",
    "          for i in range(l, r+1):\n",
    "              a[l], a[i] = a[i], a[l]\n",
    "              permutar(permutaciones, a, l+1, r)\n",
    "              a[l], a[i] = a[i], a[l]\n",
    "\n",
    "    # Obtener todas las rutas posibles con permutaciones\n",
    "    answer = []\n",
    "    permutar(answer,[i for i in range(n)],0,n-1)\n",
    "\n",
    "    # Reconstruimos la rutas con los pesos\n",
    "    distancia, ruta = math.inf, []\n",
    "    for i in range(len(answer)):\n",
    "        distanciaTotal = 0\n",
    "        for j in range(len(answer[i])-1):\n",
    "            distanciaTotal += matrix[answer[i][j]][answer[i][j+1]]\n",
    "        # Actualizar el minimo peso en total de la ruta\n",
    "        if distanciaTotal < distancia \\\n",
    "          and answer[i][0] == start: # solo los que empiezan desde Start\n",
    "            distancia, ruta = distanciaTotal, answer[i]\n",
    "    \n",
    "    return ruta, distancia"
   ]
  },
  {
   "cell_type": "code",
   "execution_count": null,
   "metadata": {
    "id": "53LPRPWTMMz6",
    "colab": {
     "base_uri": "https://localhost:8080/"
    },
    "outputId": "9f6a8d4c-6e57-4956-f2b9-6951acfae8bc"
   },
   "outputs": [
    {
     "name": "stdout",
     "output_type": "stream",
     "text": [
      "Ruta: 0 ANCOBAMBA - 4 SUPALLA - 1 CHAUCCA - 3 SANTA ROSA - 2 SANTA ISABEL - \n",
      "Distancia Total: 0.09747621160744528\n"
     ]
    }
   ],
   "source": [
    "origen = 0#@param {type:\"integer\"}\n",
    "ruta, distancia = metodo_permutaciones(grafo,matriz,origen)\n",
    "\n",
    "print(\"Ruta: \", end = \"\")\n",
    "for i in ruta:\n",
    "    print(i,nombres[i], end=\" - \")\n",
    "print(\"\\nDistancia Total:\",distancia)\n"
   ]
  },
  {
   "cell_type": "markdown",
   "metadata": {
    "id": "GGzO_M7Pu7cm"
   },
   "source": [
    "## METODO DE BFS - Método más rápido, pero no tan preciso"
   ]
  },
  {
   "cell_type": "code",
   "execution_count": 10,
   "metadata": {
    "id": "ihOlm_IyYtQ-"
   },
   "outputs": [],
   "source": [
    "def metodo_distancia_menor(graph,matrix,start):\n",
    "    n = len(graph)\n",
    "    visitado, noVisitado, ruta = [],[],[]\n",
    "    \n",
    "    # Se inserta\n",
    "    noVisitado.insert(0,[0,start])\n",
    "\n",
    "    distancia = 0\n",
    "    while len(noVisitado) > 0:\n",
    "      u = noVisitado.pop(0) # Se coje el vertice de menor peso\n",
    "      noVisitado = [] # Se vacea la lista de vertices\n",
    "      visitado.append(u[1])\n",
    "\n",
    "      # Se añade a la ruta el vertice siendo explorado\n",
    "      ruta.append(u[1])\n",
    "      distancia += u[0]\n",
    "      \n",
    "      for v, w in graph[u[1]]:\n",
    "        if v not in visitado:\n",
    "          noVisitado.insert(0,[w,v])\n",
    "          noVisitado.sort() # Se ordena la lista de menor a mayor\n",
    "    \n",
    "    return ruta, distancia"
   ]
  },
  {
   "cell_type": "code",
   "execution_count": null,
   "metadata": {
    "colab": {
     "base_uri": "https://localhost:8080/"
    },
    "id": "K5FTNTF5ufWE",
    "outputId": "fb2dabd5-7774-476f-ac56-bef4d9500124"
   },
   "outputs": [
    {
     "name": "stdout",
     "output_type": "stream",
     "text": [
      "Ruta: 0 ANCOBAMBA - 4 SUPALLA - 1 CHAUCCA - 3 SANTA ROSA - 2 SANTA ISABEL - \n",
      "Distancia Total: 0.09747621160744528\n"
     ]
    }
   ],
   "source": [
    "origen = 0#@param {type:\"integer\"}\n",
    "ruta, distancia = metodo_distancia_menor(grafo,matriz,origen)\n",
    "\n",
    "print(\"Ruta: \", end = \"\")\n",
    "for i in ruta:\n",
    "    print(i, nombres[i], end=\" - \")\n",
    "print(\"\\nDistancia Total:\",distancia)"
   ]
  },
  {
   "cell_type": "markdown",
   "metadata": {
    "id": "NyL9qaJlCar5"
   },
   "source": [
    "## MÉTODO DFS - El más lento pero más seguro cuando se tiene un destino fijo. Utilizable en varios ámbitos"
   ]
  },
  {
   "cell_type": "code",
   "execution_count": 12,
   "metadata": {
    "id": "TDi4z2uy3cZC"
   },
   "outputs": [],
   "source": [
    "def todos_caminos(graph,matrix,start,end):\n",
    "    visited = [False for i in range(len(graph))]\n",
    "    path, answer = [], []\n",
    "    \n",
    "    # Implementacion del DFS para explorar cada ruta \n",
    "    def DFS(graph, start, end, visited, path, answer):\n",
    "        visited[start] = True\n",
    "        path.append(start)\n",
    "        aux = []\n",
    "\n",
    "        if start == end:\n",
    "            aux += path\n",
    "            # Guardar la ruta solo si visita todos los nodos\n",
    "            if len(aux) == len(graph):\n",
    "               answer.append(aux)\n",
    "        else:\n",
    "            for v, w in graph[start]:\n",
    "                if visited[v] == False:\n",
    "                    DFS(graph, v, end, visited, path, answer)\n",
    "        path.pop()\n",
    "        visited[start] = False\n",
    "    DFS(graph,start,end,visited,path,answer)\n",
    "\n",
    "    # Reconstruimos la ruta con los pesos\n",
    "    distancia, ruta = math.inf, []\n",
    "    for i in range(len(answer)):\n",
    "        distanciaTotal = 0\n",
    "        for j in range(len(answer[i])-1):\n",
    "            distanciaTotal += matrix[answer[i][j]][answer[i][j+1]]\n",
    "        # Actualizar el minimo peso en total de la ruta\n",
    "        if distanciaTotal < distancia:\n",
    "            distancia, ruta = distanciaTotal, answer[i]\n",
    "    \n",
    "    return ruta, distancia"
   ]
  },
  {
   "cell_type": "code",
   "execution_count": 13,
   "metadata": {
    "colab": {
     "base_uri": "https://localhost:8080/"
    },
    "id": "Aei_GADZCtzJ",
    "outputId": "dd673f09-2f14-4e25-e025-053569dbcc96"
   },
   "outputs": [
    {
     "name": "stdout",
     "output_type": "stream",
     "text": [
      "Ruta: 0 ANCOBAMBA - 2 SANTA ISABEL - 3 SANTA ROSA - 1 CHAUCCA - 4 SUPALLA - \n",
      "Distancia Total: 0.1339356221776593\n"
     ]
    }
   ],
   "source": [
    "origen = 0#@param {type:\"integer\"}\n",
    "destino  = 4#@param {type:\"integer\"}\n",
    "ruta, distancia = todos_caminos(grafo,matriz,origen,destino)\n",
    "\n",
    "print(\"Ruta: \", end = \"\")\n",
    "for i in ruta:\n",
    "    print(i, nombres[i], end=\" - \")\n",
    "print(\"\\nDistancia Total:\",distancia)"
   ]
  },
  {
   "cell_type": "code",
   "execution_count": null,
   "metadata": {
    "id": "ptAR2w85ecjG"
   },
   "outputs": [],
   "source": [
    ""
   ]
  }
 ],
 "metadata": {
  "language_info": {
   "codemirror_mode": {
    "name": "ipython",
    "version": 3
   },
   "file_extension": ".py",
   "mimetype": "text/x-python",
   "name": "python",
   "nbconvert_exporter": "python",
   "pygments_lexer": "ipython3",
   "version": "3.9.1"
  },
  "orig_nbformat": 2.0,
  "kernelspec": {
   "name": "python391jvsc74a57bd063fd5069d213b44bf678585dea6b12cceca9941eaf7f819626cde1f2670de90d",
   "display_name": "Python 3.9.1 64-bit"
  },
  "metadata": {
   "interpreter": {
    "hash": "63fd5069d213b44bf678585dea6b12cceca9941eaf7f819626cde1f2670de90d"
   }
  },
  "colab": {
   "name": "CA_CC42_TP_VictorCamones_CarlosTorre.ipynb",
   "provenance": [],
   "collapsed_sections": [],
   "toc_visible": true
  }
 },
 "nbformat": 4,
 "nbformat_minor": 0
}
